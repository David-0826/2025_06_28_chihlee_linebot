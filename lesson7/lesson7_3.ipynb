{
 "cells": [
  {
   "cell_type": "code",
   "execution_count": 1,
   "id": "ff700e3b",
   "metadata": {},
   "outputs": [
    {
     "name": "stdout",
     "output_type": "stream",
     "text": [
      "人工智慧（AI）是如何工作的，可以用一個簡單的比喻來解釋：想像AI就像一個**非常非常聰明且學習能力極強的學生**。\n",
      "\n",
      "以下是AI工作的主要步驟和原理：\n",
      "\n",
      "### 一、\n",
      " 核心概念與步驟\n",
      "\n",
      "1.  **資料 (Data) - AI的「糧食」與「教材」**\n",
      "    *   **是什麼：** AI要學習，首先需要大量的資訊或經驗，這些就是「資料」。\n",
      "資料可以是文字、圖片、聲音、數字、行為紀錄等等。\n",
      "    *   **為何重要：** 資料的數量和品質直接決定了AI學習的廣度和深度。就像一個學生，如果他只有一本寫滿\n",
      "錯誤的教科書，他學習到的知識也會是錯誤的。\n",
      "    *   **例子：** 如果要AI識別貓咪，就需要給它看成千上萬張貓咪的圖片（以及非貓咪的圖片\n",
      "），並告訴它哪張是貓，哪張不是。\n",
      "\n",
      "2.  **演算法與模型 (Algorithms & Models) - AI的「學習方法」與「筆記」**\n",
      "    *   **演算法 (Algorithms\n",
      ")：** 這是一系列數學指令和規則，告訴AI如何從資料中學習。它就像學生的「學習方法」或「解題步驟」。例如，神經網路（Neural Networks）、決策樹（Decision Trees）、\n",
      "支持向量機（Support Vector Machines）等都是常見的演算法。\n",
      "    *   **模型 (Model)：** 當演算法在資料上運行並「學習」之後，它會建立起一個內部的「知識結構\n",
      "」或「模式」。這個就是「模型」。它就像學生在學習後，腦海中形成的對知識的「理解」或「筆記」，或者一套可以應用來解決問題的規則。\n",
      "    *   **例子\n",
      "：** 演算法就像是教你如何找出貓咪特徵的規則（例如：四條腿、毛茸茸、尖耳朵）；而模型就是當它實際看過很多貓咪後，腦中歸納出的「貓\n",
      "咪」的抽象概念和判斷規則。\n",
      "\n",
      "3.  **學習過程 (Learning Process) - AI的「讀書」與「訓練」**\n",
      "    *   這是AI從資料中建立模型的過程，通常分為幾種主要\n",
      "方式：\n",
      "        *   **監督式學習 (Supervised Learning)：**\n",
      "            *   **原理：** 給AI看「有答案」的資料。AI被告知哪些輸入對應哪些輸出。它透過比較自己的\n",
      "預測和正確答案之間的差異來不斷調整和學習。\n",
      "            *   **比喻：** 就像老師給學生帶有正確答案的練習題，學生做錯了，老師會糾正。\n",
      "            *   \n",
      "**應用：** 圖片分類（這張圖是貓還是狗？）、垃圾郵件識別（這封郵件是不是垃圾郵件？）、股價預測。\n",
      "        *   **非監督式學習 (Unsupervised\n",
      " Learning)：**\n",
      "            *   **原理：** 給AI看「沒有答案」的資料。AI需要自己找出資料中隱藏的結構、模式或群組。\n",
      "            *   **比喻：** 就像給\n",
      "學生一堆沒有分類的圖片，讓學生自己找出哪些圖片是相似的，並將它們歸類。\n",
      "            *   **應用：** 客戶分群（將相似的客戶分組）、異常檢測（找出不\n",
      "尋常的行為）、數據壓縮。\n",
      "        *   **強化學習 (Reinforcement Learning)：**\n",
      "            *   **原理：** AI透過與環境互動來學習。它執行一個動作，根據動作的結果獲得「獎勵\n",
      "」（做對了）或「懲罰」（做錯了），然後目標是學習如何做出能最大化獎勵的行動。\n",
      "            *   **比喻：** 就像訓練狗狗，做對了給零食，做錯\n",
      "了則沒有。狗狗會學習如何獲得更多零食。\n",
      "            *   **應用：** 自動駕駛、玩遊戲（如AlphaGo下圍棋）、機器人控制。\n",
      "\n",
      "4.  **推論與預測\n",
      " (Inference & Prediction) - AI的「考試」與「應用」**\n",
      "    *   **是什麼：** 一旦AI模型訓練完成，它就可以應用於新的、從未見過的資料。模型會根據它學\n",
      "到的知識，對新資料做出判斷、分類或預測。\n",
      "    *   **比喻：** 就像學生學習完畢後參加考試，利用學到的知識來回答新的問題。\n",
      "    *   **例子\n",
      "：** 將一張全新的貓咪圖片輸入給訓練好的AI模型，模型會根據它學到的貓咪特徵，判斷這是一隻貓。\n",
      "\n",
      "5.  **回饋與優化 (Feedback & Optimization) -\n",
      " AI的「檢討」與「改進」**\n",
      "    *   **是什麼：** AI的表現會被評估。如果結果不理想（例如，模型經常把狗認成貓），開發者會調整演\n",
      "算法、增加或清洗資料、或修改模型結構，然後進行再訓練，使AI變得更聰明、更準確。\n",
      "    *   **比喻：** 就像學生考完試後，老師會分析錯誤，\n",
      "並調整教學方法或建議學生多做練習，以便下次考得更好。\n",
      "\n",
      "### 二、 總結的比喻\n",
      "\n",
      "簡而言之，AI的工作流程就像一個學生：\n",
      "\n",
      "*   **資料** 是他的**課本**。\n",
      "\n",
      "*   **演算法** 是他的**學習方法**。\n",
      "*   **模型** 是他學習後在腦中形成的**知識體系和理解**。\n",
      "*   **學習過程** 是他**讀書、\n",
      "做練習、背誦**的過程。\n",
      "*   **推論與預測** 是他**考試、應用所學**的過程。\n",
      "*   **回饋與優化** 是他**考後檢討\n",
      "、改進學習方法**的過程。\n",
      "\n",
      "### 三、 重要的補充\n",
      "\n",
      "*   **AI不是魔法：** AI的運作基於大量的數學、統計學和電腦科學原理，並非憑空想像或魔法。\n",
      "\n",
      "*   **數據決定一切：** AI的表現高度依賴於訓練資料的數量、品質和代表性。\n",
      "*   **AI通常是專用的：** 目前我們見到的AI大多數是「弱人工智慧」（Narrow\n",
      " AI），它們在特定任務上表現出色（如玩圍棋、識別圖像），但無法像人類一樣通用地解決各種問題。「通用人工智慧」（AGI）目前仍是研究目標，尚未實現。\n",
      "*   **\n",
      "偏見問題：** 如果訓練資料中存在偏見，AI模型也會學習到這些偏見，並在做出判斷時反映出來。\n",
      "\n",
      "透過以上步驟，AI系統得以從看似無序的資料中學習規\n",
      "律，並應用這些規律來執行各種複雜的任務。\n"
     ]
    }
   ],
   "source": [
    "from google import genai\n",
    "\n",
    "client = genai.Client()\n",
    "response = client.models.generate_content_stream(\n",
    "    model=\"gemini-2.5-flash\",\n",
    "    contents=[\"AI是如何工作的(請使用繁體中文回答)?\"]\n",
    ")\n",
    "for chunk in response:\n",
    "    print(chunk.text)"
   ]
  },
  {
   "cell_type": "code",
   "execution_count": 1,
   "id": "6b54ab93",
   "metadata": {},
   "outputs": [
    {
     "name": "stdout",
     "output_type": "stream",
     "text": [
      "5\n",
      "9\n",
      "10\n"
     ]
    }
   ],
   "source": [
    "for item in [5,9,10]:\n",
    "    print(item)\n",
    "    "
   ]
  },
  {
   "cell_type": "code",
   "execution_count": 3,
   "id": "10431d57",
   "metadata": {},
   "outputs": [
    {
     "data": {
      "text/markdown": [
       "您好！根據您提供的圖片，這不是動物，而是一種**植物**。\n",
       "\n",
       "這種植物通常被稱為「**發財樹**」，學名是 *Pachira aquatica* (瓜栗)。\n",
       "\n",
       "以下是關於發財樹的一些資訊：\n",
       "\n",
       "*   **名稱 (Name):**\n",
       "    *   中文俗名：發財樹、馬拉巴栗\n",
       "    *   學名：*Pachira aquatica* (瓜栗)\n",
       "    *   英文俗名：Money Tree, Malabar Chestnut\n",
       "\n",
       "*   **外觀特徵 (Appearance):**\n",
       "    *   圖片中顯示的發財樹，其莖幹通常會被人工編織成辮子狀，這是商業栽培中常見的造型，使其更具觀賞性。\n",
       "    *   葉子是掌狀複葉，每片葉子通常由五到七片橢圓形的小葉組成，顏色翠綠，葉面有光澤。\n",
       "    *   它的根莖基部會膨大，可以儲存水分和養分。\n",
       "\n",
       "*   **原產地 (Origin):**\n",
       "    *   原產於中美洲和南美洲的熱帶地區，特別是墨西哥、中美洲及南美洲北部的沼澤和濕地。\n",
       "\n",
       "*   **文化意義 (Cultural Significance):**\n",
       "    *   在亞洲文化中，發財樹被視為好運、財富和繁榮的象徵。因此，它在家庭和辦公室中非常受歡迎，尤其是在農曆新年等節日期間，常被用作送禮或裝飾。\n",
       "    *   在風水學中，它也佔有重要地位，被認為能帶來正能量和財運。\n",
       "\n",
       "*   **照護 (Care):**\n",
       "    *   **光照 (Light):** 喜歡明亮、間接的光線。避免陽光直射，以免灼傷葉片。\n",
       "    *   **澆水 (Watering):** 喜歡濕潤的環境，但在再次澆水前，讓土壤表面乾燥。過度澆水可能導致根部腐爛。\n",
       "    *   **濕度 (Humidity):** 偏好較高的濕度，特別是在乾燥的室內環境中，可以定期向葉片噴霧。\n",
       "    *   **溫度 (Temperature):** 喜歡溫暖的環境，最佳生長溫度介於18°C到30°C之間。應避免將其置於低於10°C的環境。\n",
       "    *   **土壤 (Soil):** 喜歡排水良好、富含有機質的土壤。\n",
       "\n",
       "*   **其他 (Other):**\n",
       "    *   在野外，發財樹會開出大而芳香的花朵，並結出含有可食用的堅果的果實，但作為室內盆栽，很少會開花結果。\n",
       "    *   它被認為是對寵物相對無毒的植物，但仍建議避免寵物大量攝入。\n",
       "\n",
       "希望這些資訊對您有幫助！"
      ],
      "text/plain": [
       "<IPython.core.display.Markdown object>"
      ]
     },
     "metadata": {},
     "output_type": "display_data"
    }
   ],
   "source": [
    "import PIL.Image\n",
    "from google import genai\n",
    "from IPython.display import display, Markdown\n",
    "\n",
    "client = genai.Client()\n",
    "#image = PIL.Image.open('bear.jpg')\n",
    "image = PIL.Image.open('plant1.jpg')\n",
    "response = client.models.generate_content(\n",
    "    model=\"gemini-2.5-flash\",\n",
    "    contents=[image, \"請告訴我這是什麼動物,還有關於它的一些資訊\"]\n",
    ")\n",
    "\n",
    "display(Markdown(response.text))"
   ]
  },
  {
   "cell_type": "code",
   "execution_count": 4,
   "id": "64c6d8b7",
   "metadata": {},
   "outputs": [
    {
     "data": {
      "text/markdown": [
       "好的，您有兩隻狗狗在家裡！\n",
       "\n",
       "牠們是您的好夥伴吧？您有什麼想分享的，或是對狗狗有任何問題想問嗎？"
      ],
      "text/plain": [
       "<IPython.core.display.Markdown object>"
      ]
     },
     "metadata": {},
     "output_type": "display_data"
    },
    {
     "data": {
      "text/markdown": [
       "好的，根據您有兩隻狗狗，每隻狗狗有4隻爪子：\n",
       "\n",
       "*   **2 隻狗狗 x 4 隻爪子/隻 = 8 隻爪子**\n",
       "\n",
       "所以，如果您只考慮狗狗的爪子，那麼您家裡有 **8 隻爪子**！\n",
       "\n",
       "當然，如果您也算上您自己的腳（有些人會開玩笑地這樣說），那就要再加上您自己的腳數囉！ 😄"
      ],
      "text/plain": [
       "<IPython.core.display.Markdown object>"
      ]
     },
     "metadata": {},
     "output_type": "display_data"
    },
    {
     "name": "stdout",
     "output_type": "stream",
     "text": [
      "===================\n",
      "role - user: 我有2隻狗在我的房子內\n",
      "role - model: 好的，您有兩隻狗狗在家裡！\n",
      "\n",
      "牠們是您的好夥伴吧？您有什麼想分享的，或是對狗狗有任何問題想問嗎？\n",
      "role - user: 在我家裏有多少爪子?\n",
      "role - model: 好的，根據您有兩隻狗狗，每隻狗狗有4隻爪子：\n",
      "\n",
      "*   **2 隻狗狗 x 4 隻爪子/隻 = 8 隻爪子**\n",
      "\n",
      "所以，如果您只考慮狗狗的爪子，那麼您家裡有 **8 隻爪子**！\n",
      "\n",
      "當然，如果您也算上您自己的腳（有些人會開玩笑地這樣說），那就要再加上您自己的腳數囉！ 😄\n"
     ]
    }
   ],
   "source": [
    "from google import genai\n",
    "from IPython.display import display, Markdown\n",
    "\n",
    "client = genai.Client()\n",
    "chat = client.chats.create(model=\"gemini-2.5-flash\")\n",
    "\n",
    "\n",
    "response = chat.send_message(\"我有2隻狗在我的房子內\")\n",
    "display(Markdown(response.text))\n",
    "\n",
    "response = chat.send_message('在我家裏有多少爪子?')\n",
    "display(Markdown(response.text))\n",
    "\n",
    "print(\"===================\")\n",
    "for message in chat.get_history():\n",
    "    print(f'role - {message.role}',end=\": \")\n",
    "    print(message.parts[0].text)\n",
    "    "
   ]
  }
 ],
 "metadata": {
  "kernelspec": {
   "display_name": "linebot",
   "language": "python",
   "name": "python3"
  },
  "language_info": {
   "codemirror_mode": {
    "name": "ipython",
    "version": 3
   },
   "file_extension": ".py",
   "mimetype": "text/x-python",
   "name": "python",
   "nbconvert_exporter": "python",
   "pygments_lexer": "ipython3",
   "version": "3.11.13"
  }
 },
 "nbformat": 4,
 "nbformat_minor": 5
}
