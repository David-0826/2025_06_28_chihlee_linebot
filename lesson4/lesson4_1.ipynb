{
 "cells": [
  {
   "cell_type": "markdown",
   "id": "7b79b202",
   "metadata": {},
   "source": [
    "### python 儲存資料\n",
    "- 變數\n",
    "- list\n",
    "- dict\n"
   ]
  },
  {
   "cell_type": "code",
   "execution_count": 7,
   "id": "efdde914",
   "metadata": {},
   "outputs": [
    {
     "name": "stdout",
     "output_type": "stream",
     "text": [
      "建立變數\n",
      "變數內容:python\n",
      "變數類型:_<class 'str'>\n",
      "變數長度:*6\n"
     ]
    }
   ],
   "source": [
    "print(\"建立變數\")\n",
    "name = \"python\"\n",
    "print(\"變數內容:\", name, sep=\"\")\n",
    "print(\"變數類型:\", type(name), sep=\"_\")\n",
    "print(\"變數長度:\", len(name), sep=\"*\")\n"
   ]
  },
  {
   "cell_type": "code",
   "execution_count": 4,
   "id": "cf94ebe5",
   "metadata": {},
   "outputs": [
    {
     "name": "stdout",
     "output_type": "stream",
     "text": [
      "1 | 5.0 | hello | True.\n"
     ]
    }
   ],
   "source": [
    "print(1, 5.0, \"hello\", True,sep=\" | \", end=\".\\n\")\n"
   ]
  }
 ],
 "metadata": {
  "kernelspec": {
   "display_name": "line_bot",
   "language": "python",
   "name": "python3"
  },
  "language_info": {
   "codemirror_mode": {
    "name": "ipython",
    "version": 3
   },
   "file_extension": ".py",
   "mimetype": "text/x-python",
   "name": "python",
   "nbconvert_exporter": "python",
   "pygments_lexer": "ipython3",
   "version": "3.10.18"
  }
 },
 "nbformat": 4,
 "nbformat_minor": 5
}
