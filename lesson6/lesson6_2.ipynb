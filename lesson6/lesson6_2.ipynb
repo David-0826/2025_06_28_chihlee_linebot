{
 "cells": [
  {
   "cell_type": "code",
   "execution_count": null,
   "id": "89012166",
   "metadata": {},
   "outputs": [],
   "source": [
    "{\n",
    " \"cells\": [],\n",
    " \"metadata\": {\n",
    "  \"language_info\": {\n",
    "   \"name\": \"python\"\n",
    "  }\n",
    " },\n",
    " \"nbformat\": 4,\n",
    " \"nbformat_minor\": 5\n",
    "}"
   ]
  }
 ],
 "metadata": {
  "language_info": {
   "name": "python"
  }
 },
 "nbformat": 4,
 "nbformat_minor": 5
}
