{
 "cells": [
  {
   "cell_type": "code",
   "execution_count": null,
   "id": "cd0bd8c9",
   "metadata": {},
   "outputs": [],
   "source": [
    "fruits = [\"蘋果\", \"香蕉\", \"橘子\"]\n",
    "print(type(fruits))\n",
    "print(\"水果清單:\",fruits)\n",
    "print(\"第一個水果:\",fruits[0])\n",
    "fruits.reverse() #反轉清單\n",
    "print(\"反轉後的水果清單:\",fruits)\n"
   ]
  }
 ],
 "metadata": {
  "language_info": {
   "name": "python"
  }
 },
 "nbformat": 4,
 "nbformat_minor": 5
}
