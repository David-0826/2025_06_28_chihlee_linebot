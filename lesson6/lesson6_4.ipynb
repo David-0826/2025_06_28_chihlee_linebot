{
 "cells": [
  {
   "cell_type": "code",
   "execution_count": 3,
   "id": "b0191f6e",
   "metadata": {},
   "outputs": [
    {
     "name": "stdout",
     "output_type": "stream",
     "text": [
      "=========AI回應=========\n"
     ]
    },
    {
     "data": {
      "text/markdown": [
       "想像一下 Python 函式就像一個 **小腳手相及**。\n",
       "\n",
       "* **腳手相及** 負責執行特定的任務，例如計算、處理資料、或是顯示文字。\n",
       "* 每個腳手相及都是一個 **程式碼片段**，它會從預設的步驟開始，然後按照你給定的規則執行。\n",
       "\n",
       "**簡單來說，Python 函式就是你想要讓程式做的事情，但它又是一個可以重複執行、改變結果的程式碼小片段。**\n",
       "\n",
       "**以下是一些更具體的理解：**\n",
       "\n",
       "* **`print(\"Hello, world!\")`**  這個函式會把文字 \"Hello, world!\" 輸出到螢幕上。\n",
       "* **`x = 10`**  這個函式會將數字 10 存儲到一個變數裡。\n",
       "* **`my_list = [1, 2, 3]`** 是一個函式，會創建一個名為 `my_list` 的列表，其中包含數字 1, 2, 和 3。\n",
       "\n",
       "**它們如何運行？**\n",
       "\n",
       "1.  你輸入程式碼。\n",
       "2.  程式碼會從開始的步驟開始執行。\n",
       "3.  每一步會執行指定的操作，並改變程式中的值。\n",
       "4.  程式碼會執行完畢後，會把結果顯示出來。\n",
       "\n",
       "**總之，Python 函式就是程式碼的組成元素，它們一起組合起來，可以完成複雜的任務。**\n",
       "\n",
       "**更簡單的類比：**\n",
       "\n",
       "想像你有一堆烤好麵包的知識，但是沒有實際的烤麵包操作，這些知識會成為 Python 函式。  函程式可以根據你的指令 (例如：煮烤)  執行，產生你想要的結果 (例如：烤好麵包)。\n",
       "\n",
       "希望這個解釋對你有所幫助!  如果你還有其他問題，隨時問我。\n"
      ],
      "text/plain": [
       "<IPython.core.display.Markdown object>"
      ]
     },
     "metadata": {},
     "output_type": "display_data"
    }
   ],
   "source": [
    "import requests\n",
    "#import pprint\n",
    "from pprint import pprint\n",
    "from IPython.display import Markdown, display\n",
    "\n",
    "def generate_with_ollama(prompt:str)->None:\n",
    "    url = \"http://localhost:11434/api/generate\"\n",
    "    payload = {\n",
    "        \"model\":\"gemma3:1b\",\n",
    "        \"prompt\":prompt,\n",
    "        \"stream\":False\n",
    "    }\n",
    "    response = requests.post(url,json=payload)\n",
    "    result = response.json()\n",
    "    #print(type(result))\n",
    "    #pprint(result)\n",
    "\n",
    "    print(\"=========AI回應=========\")\n",
    "    display(Markdown(result['response']))\n",
    "\n",
    "\n",
    "generate_with_ollama(\"請用簡單的方式解釋什麼是Python的函式?\")\n",
    "\n",
    "                     \n",
    "\n",
    "\n"
   ]
  }
 ],
 "metadata": {
  "kernelspec": {
   "display_name": "linebot",
   "language": "python",
   "name": "python3"
  },
  "language_info": {
   "codemirror_mode": {
    "name": "ipython",
    "version": 3
   },
   "file_extension": ".py",
   "mimetype": "text/x-python",
   "name": "python",
   "nbconvert_exporter": "python",
   "pygments_lexer": "ipython3",
   "version": "3.11.13"
  }
 },
 "nbformat": 4,
 "nbformat_minor": 5
}
