fruits = ["蘋果", "香蕉", "橘子"]
print(type(fruits))
print(水果清單:",fruits")
print("第一個水果:",fruits[0]))
fruits.reverse() #反轉清單
print("反轉後的水果清單:",fruits)
